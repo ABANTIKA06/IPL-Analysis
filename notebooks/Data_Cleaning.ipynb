{
 "cells": [
  {
   "cell_type": "code",
   "execution_count": null,
   "id": "907501ae",
   "metadata": {},
   "outputs": [],
   "source": [
    "BELOW CODE FOR DATAFRAME CLEANING"
   ]
  },
  {
   "cell_type": "code",
   "execution_count": null,
   "id": "42a725bb",
   "metadata": {},
   "outputs": [],
   "source": [
    "import pandas as pd\n",
    "\n",
    "# Load the raw CSV file\n",
    "df = pd.read_csv('/home/abantika/Documents/abantika_projects/IPL/IPL1.csv')\n",
    "\n",
    "\n",
    "#Fill missing (NaN) values with 'No stats'\n",
    "df.fillna('No stats', inplace=True)\n",
    "\n",
    "\n",
    "#Strip extra spaces from text fields\n",
    "\n",
    "def strip_string(x):\n",
    "    if isinstance(x, str): #x here is the text , if it is string then strip it out\n",
    "        return x.strip()  # remove leading/trailing spaces\n",
    "    else:\n",
    "        return x          #return x as it is if its a number or numeric data\n",
    "\n",
    "df = df.applymap(strip_string) #apply this strip change to all the cells in the dataframe\n",
    "\n",
    "#Replace 'No stats' with 0 (for numeric consistency)\n",
    "df.replace('No stats', 0, inplace=True)\n",
    "\n",
    "#Convert numeric columns from strings to numbers\n",
    "df = df.apply(pd.to_numeric, errors=\"ignore\")\n",
    "#If a column can’t be converted (e.g., it contains text like player names), it will be left unchanged.\n",
    "#NO error raised\n",
    "\n",
    "#Verify data types (optional check)\n",
    "print(\"Column Data Types:\")\n",
    "print(df.dtypes)\n",
    "\n",
    "# Save cleaned dataset\n",
    "final_path = '/home/abantika/Documents/abantika_projects/IPL/IPL1_cleaned_final_proper.csv'\n",
    "df.to_csv(final_path, index=False)\n",
    "\n",
    "#Confirm successful cleaning\n",
    "print(\"Cleaning complete! All 'No stats' replaced with 0\")\n",
    "print(\"Cleaned dataset saved to:\", final_path)\n",
    "print(\"Original rows:\", len(df))    # Shows total no. of rows in cleaned DataFrame"
   ]
  }
 ],
 "metadata": {
  "kernelspec": {
   "display_name": "Python 3 (ipykernel)",
   "language": "python",
   "name": "python3"
  },
  "language_info": {
   "codemirror_mode": {
    "name": "ipython",
    "version": 3
   },
   "file_extension": ".py",
   "mimetype": "text/x-python",
   "name": "python",
   "nbconvert_exporter": "python",
   "pygments_lexer": "ipython3",
   "version": "3.12.3"
  }
 },
 "nbformat": 4,
 "nbformat_minor": 5
}
